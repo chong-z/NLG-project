{
  "nbformat": 4,
  "nbformat_minor": 0,
  "metadata": {
    "colab": {
      "name": "CS269-NLG-demo.ipynb",
      "provenance": [],
      "collapsed_sections": [],
      "authorship_tag": "ABX9TyPeXupktzvJeZeuYzic5CFd",
      "include_colab_link": true
    },
    "kernelspec": {
      "name": "python3",
      "display_name": "Python 3"
    },
    "accelerator": "GPU"
  },
  "cells": [
    {
      "cell_type": "markdown",
      "metadata": {
        "id": "view-in-github",
        "colab_type": "text"
      },
      "source": [
        "<a href=\"https://colab.research.google.com/github/chong-z/NLG-project/blob/master/CS269_NLG_demo.ipynb\" target=\"_parent\"><img src=\"https://colab.research.google.com/assets/colab-badge.svg\" alt=\"Open In Colab\"/></a>"
      ]
    },
    {
      "cell_type": "markdown",
      "metadata": {
        "id": "8npvE8zXZTCl"
      },
      "source": [
        "# CS269 NLG Project: Generating Semi-Restricted Natural Language Adversarial Examples\n"
      ]
    },
    {
      "cell_type": "markdown",
      "metadata": {
        "id": "29gLB7-fZemO"
      },
      "source": [
        "## Setup"
      ]
    },
    {
      "cell_type": "code",
      "metadata": {
        "id": "x1rXH4kSYLkQ"
      },
      "source": [
        "!pip install transformers==3.0.2 pytorch-pretrained-bert==0.6.2 nlp torch nltk numpy tensorboardX\n",
        "\n",
        "!git clone https://github.com/chong-z/NLG-project.git\n",
        "%cd NLG-project\n",
        "!sh dowloaddata.sh"
      ],
      "execution_count": null,
      "outputs": []
    },
    {
      "cell_type": "markdown",
      "metadata": {
        "id": "3p_ntouCbV-X"
      },
      "source": [
        "## Run adversarial attacks"
      ]
    },
    {
      "cell_type": "code",
      "metadata": {
        "colab": {
          "base_uri": "https://localhost:8080/"
        },
        "id": "AxO9JcbFY3Tf",
        "outputId": "85ff7474-5455-4301-f8d3-4b3a3cf1362f"
      },
      "source": [
        "!python semi_attack.py -c models/sample-GRU/E9.pytorch --iter 2 --steps 10 --rseed 7 -v \\\n",
        "  --victim_model \"distilbert-base-uncased-finetuned-sst-2-english\" \\\n",
        "  --victim_sentence \"a gorgeous , high-spirited musical from india that exquisitely mixed music , dance , song , and high drama .\" \\\n",
        "  --reference_sentence \"i finished my final exam at ucla\""
      ],
      "execution_count": 6,
      "outputs": [
        {
          "output_type": "stream",
          "text": [
            "2020-12-06 09:42:49.290892: I tensorflow/stream_executor/platform/default/dso_loader.cc:48] Successfully opened dynamic library libcudart.so.10.1\n",
            "Model loaded from models/sample-GRU/E9.pytorch\n",
            "\n",
            "-------Initial Inputs-------\n",
            "Victim Sentence: a gorgeous , high-spirited musical from india that exquisitely mixed music , dance , song , and high drama . pred:0.9998873472213745\n",
            "Reference Sentence: i finished my final exam at ucla pred:0.0765596479177475\n",
            "\n",
            "-------ITERATION 0-------\n",
            "Best Adv Sentence: i finished my final exam at ucla pred:0.0765596479177475\n",
            "-------PREDICTIONS-------\n",
            "1.000 & a gorgeous , high-spirited musical from india that exquisitely mixed music , dance , song , and high drama . \\\\\n",
            "0.998 & a confluence , heady jumble of effectively creepy-scary , and dance , and dance , and the whole slo-mo , double-pistoled , ballistic-pyrotechnic hong kong action sequences  \\\\\n",
            "0.559 & a smart , steamy mix of sulky teen comedy that plays like a 95 - minute commercial for nba properties .  \\\\\n",
            "1.000 & a smart , steamy mix of sulky teen comedy that will have a surprising winner with the audience .  \\\\\n",
            "0.001 & a zippy 96 , but no real sense of suspense , dumb and damaged dreams  \\\\\n",
            "0.998 & a movie that will leave you wanting more than franchise possibilities ,  \\\\\n",
            "0.998 & a movie that will leave you wanting more than franchise possibilities  \\\\\n",
            "0.004 & this odd , poetic road movie that feels more like a travel-agency sitcom replete with stereotypical familial quandaries  \\\\\n",
            "0.004 & i saw this movie , offering instead of the ties  \\\\\n",
            "0.660 & i saw this movie , offering instead of the gross-out comedy  \\\\\n",
            "0.982 & i saw this movie with it  \\\\\n",
            "0.992 & i saw this movie  \\\\\n",
            "0.077 & i finished my final exam at ucla \\\\\n",
            "\n",
            "-------ITERATION 1-------\n",
            "Best Adv Sentence: this odd , poetic road movie that feels more like a travel-agency sitcom replete with stereotypical familial quandaries <eos> pred:0.004260380286723375\n",
            "-------PREDICTIONS-------\n",
            "1.000 & a gorgeous , high-spirited musical from india that exquisitely mixed music , dance , song , and high drama . \\\\\n",
            "1.000 & a solid , anguished performance that eclipses nearly everything else she ' s done done before while peppering the pages with memorable zingers .  \\\\\n",
            "1.000 & a delicious , delicately crafted , with an undeniable entertainment value and maturity that sneaks up on the viewer .  \\\\\n",
            "1.000 & a delicious , quirky flick worthy of drugs , romance , tragedy , and romance  \\\\\n",
            "1.000 & a delicious , quirky movie with an apparent subject  \\\\\n",
            "1.000 & a delicious , quirky movie with slow , uninvolving storytelling ,  \\\\\n",
            "0.999 & with a fresh idea , if somewhat standardized ,  \\\\\n",
            "0.004 & this odd , poetic road movie that feels more like a travel-agency sitcom replete with stereotypical familial quandaries  \\\\\n",
            "-------Attack Result-------\n",
            "Victim Sentence: a gorgeous , high-spirited musical from india that exquisitely mixed music , dance , song , and high drama . pred:0.9998873472213745\n",
            "Best Adv Sentence: this odd , poetic road movie that feels more like a travel-agency sitcom replete with stereotypical familial quandaries <eos> pred:0.004260380286723375\n"
          ],
          "name": "stdout"
        }
      ]
    },
    {
      "cell_type": "code",
      "metadata": {
        "colab": {
          "base_uri": "https://localhost:8080/"
        },
        "id": "oBWAP3MjZKm0",
        "outputId": "25f6cf61-b760-4152-fe9f-3b8c1488e075"
      },
      "source": [
        "!python semi_attack.py -c models/sample-GRU/E9.pytorch --iter 2 --steps 10 --rseed 42 -v \\\n",
        "  --victim_model \"distilbert-base-uncased-finetuned-sst-2-english\" \\\n",
        "  --victim_sentence \"a strangely compelling and brilliantly acted psychological drama .\" \\\n",
        "  --reference_sentence \"an absurdist sitcom about alienation , separation and loss .\""
      ],
      "execution_count": 12,
      "outputs": [
        {
          "output_type": "stream",
          "text": [
            "2020-12-06 09:48:10.834165: I tensorflow/stream_executor/platform/default/dso_loader.cc:48] Successfully opened dynamic library libcudart.so.10.1\n",
            "Model loaded from models/sample-GRU/E9.pytorch\n",
            "\n",
            "-------Initial Inputs-------\n",
            "Victim Sentence: a strangely compelling and brilliantly acted psychological drama . pred:0.999883770942688\n",
            "Reference Sentence: an absurdist sitcom about alienation , separation and loss . pred:0.0025041822809726\n",
            "\n",
            "-------ITERATION 0-------\n",
            "Best Adv Sentence: an absurdist sitcom about alienation , separation and loss . pred:0.0025041822809726\n",
            "-------PREDICTIONS-------\n",
            "1.000 & a strangely compelling and brilliantly acted psychological drama . \\\\\n",
            "1.000 & a chilling tale of a deeply humanistic artist who has been awarded mythic status in contemporary culture  \\\\\n",
            "1.000 & a fascinating glimpse of urban life  \\\\\n",
            "1.000 & a fascinating glimpse into an urban hades , languid romanticism  \\\\\n",
            "0.994 & a fascinating glimpse into the urban heart and the class warfare that embroils two hours of post viewing discussion  \\\\\n",
            "1.000 & the film is a refreshingly forthright one of two directors with its shape-shifting perils political intrigue and brushes with calamity  \\\\\n",
            "0.796 & the film is well-crafted and quick , lacking about the main characters  \\\\\n",
            "0.640 & the film is well-crafted and quick , lacking about the main characters and a half dozen other trouble-in-the-ghetto flicks .  \\\\\n",
            "0.003 & an absurdist sitcom about alienation , separation and loss . \\\\\n",
            "\n",
            "-------ITERATION 1-------\n",
            "Best Adv Sentence: an absurdist sitcom about alienation , separation and loss . pred:0.0025041822809726\n",
            "-------PREDICTIONS-------\n",
            "1.000 & a strangely compelling and brilliantly acted psychological drama . \\\\\n",
            "0.998 & is a visually stunning rumination on aging and suffering .  \\\\\n",
            "1.000 & is a visually stunning rumination on the cultural distinctions .  \\\\\n",
            "0.001 & is a disaster , and cloying told .  \\\\\n",
            "0.033 & is a disaster , and cloying told with a conscience dramatic impact .  \\\\\n",
            "1.000 & is a riot and a truly distinctive sensibility of a modern israel .  \\\\\n",
            "1.000 & is a riot and a truly distinctive sensibility of a subculture .  \\\\\n",
            "0.000 & the film is a lame kiddie flick and maddeningly sedate pacing .  \\\\\n",
            "0.000 & the film ' s plot may be shallow and tiresome histrionics .  \\\\\n",
            "1.000 & ' s a diverting and thought-provoking film  \\\\\n",
            "1.000 & ' s a diverting and thought-provoking film that ' s been acted - - and totally american fiction .  \\\\\n",
            "0.003 & an absurdist sitcom about alienation , separation and loss . \\\\\n",
            "-------Attack Result-------\n",
            "Victim Sentence: a strangely compelling and brilliantly acted psychological drama . pred:0.999883770942688\n",
            "Best Adv Sentence: is a disaster , and cloying told with a conscience dramatic impact . <eos> pred:0.0025041822809726\n"
          ],
          "name": "stdout"
        }
      ]
    },
    {
      "cell_type": "code",
      "metadata": {
        "id": "7LAOJJMrcUOZ"
      },
      "source": [
        ""
      ],
      "execution_count": null,
      "outputs": []
    }
  ]
}